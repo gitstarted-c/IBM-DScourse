{
 "cells": [
  {
   "cell_type": "markdown",
   "id": "cf5ae08f-6f80-4504-b3d6-4bdfcbb8869f",
   "metadata": {},
   "source": [
    "# Data Science Tools and Ecosystem"
   ]
  },
  {
   "cell_type": "markdown",
   "id": "0d02dc91-dab1-4838-ad56-6d5bfa0c5bb8",
   "metadata": {},
   "source": [
    "In this notebook, Data Science Tools and Ecosystem are summarized."
   ]
  },
  {
   "cell_type": "markdown",
   "id": "2250ef12-f50e-4493-82c4-78e361a38e8d",
   "metadata": {},
   "source": [
    "**Objectives:**\n",
    "- List popular languages for Data Science\n",
    "- List common libaries used by Data Scientists\n",
    "- List Data Science Tools examples"
   ]
  },
  {
   "cell_type": "markdown",
   "id": "aa0ea879-5929-47e3-909a-834c6b06ca98",
   "metadata": {},
   "source": [
    "Some of the popular languages that Data Scientists use are:\n",
    "1. Python\n",
    "2. R\n",
    "3. SQL"
   ]
  },
  {
   "cell_type": "markdown",
   "id": "dac27df3-edc7-4294-988c-c1951a9c97bb",
   "metadata": {},
   "source": [
    "Some of the commonly used libraries used by Data Scientists include:\r",
    "1. NumPy\n",
    "2. Pandas\n",
    "3. Matplotlib\n"
   ]
  },
  {
   "cell_type": "markdown",
   "id": "317ea371-76ce-49ee-bae6-01294768aaa7",
   "metadata": {},
   "source": [
    "|Data Science Tools|\n",
    "|-----------|\n",
    "|Jupyter Notebook|\n",
    "|RStudio|\n",
    "|VisualStudio Code|"
   ]
  },
  {
   "cell_type": "markdown",
   "id": "b5f44361-449f-4bc7-877f-aac744b58337",
   "metadata": {},
   "source": [
    "### Below are a few examples of evaluating arithmetic expressions in Python.\r\n"
   ]
  },
  {
   "cell_type": "code",
   "execution_count": 17,
   "id": "e92046ae-d2a8-4cf7-8a18-bc555ad6d4a8",
   "metadata": {},
   "outputs": [
    {
     "data": {
      "text/plain": [
       "17"
      ]
     },
     "execution_count": 17,
     "metadata": {},
     "output_type": "execute_result"
    }
   ],
   "source": [
    "# This a simple arithmetic expression to mutiply then add integers\n",
    "(3*4)+5"
   ]
  },
  {
   "cell_type": "code",
   "execution_count": 19,
   "id": "4eed8167-f4e1-4762-886e-f75f7898407f",
   "metadata": {},
   "outputs": [
    {
     "data": {
      "text/plain": [
       "3.3333333333333335"
      ]
     },
     "execution_count": 19,
     "metadata": {},
     "output_type": "execute_result"
    }
   ],
   "source": [
    "# This will convert 200 minutes to hours by diving by 60\n",
    "200/60"
   ]
  },
  {
   "cell_type": "markdown",
   "id": "17c102ae-aeaa-4b03-8c01-f24384d3a416",
   "metadata": {},
   "source": [
    "## Author\n",
    "Winki Tse"
   ]
  },
  {
   "cell_type": "code",
   "execution_count": null,
   "id": "93e27e0c-fa59-4565-b1bf-7dc8612addfa",
   "metadata": {},
   "outputs": [],
   "source": []
  }
 ],
 "metadata": {
  "kernelspec": {
   "display_name": "Python 3 (ipykernel)",
   "language": "python",
   "name": "python3"
  },
  "language_info": {
   "codemirror_mode": {
    "name": "ipython",
    "version": 3
   },
   "file_extension": ".py",
   "mimetype": "text/x-python",
   "name": "python",
   "nbconvert_exporter": "python",
   "pygments_lexer": "ipython3",
   "version": "3.12.4"
  }
 },
 "nbformat": 4,
 "nbformat_minor": 5
}
